{
 "cells": [
  {
   "cell_type": "markdown",
   "metadata": {},
   "source": [
    "# Evolución diaria infectados de Coronavirus"
   ]
  },
  {
   "cell_type": "code",
   "execution_count": 1,
   "metadata": {},
   "outputs": [],
   "source": [
    "import numpy as np\n",
    "import matplotlib.pyplot as plt\n",
    "from scipy.optimize import least_squares"
   ]
  },
  {
   "cell_type": "code",
   "execution_count": 2,
   "metadata": {},
   "outputs": [],
   "source": [
    "# Datos\n",
    "# x: dias de Marzo\n",
    "# y: infectados declarados\n",
    "x=np.array([4,5,6,7,8,9,10,11,12,13,14,15,16,17,18,19,20,21,22,23, \\\n",
    "           24,25,26,27,28,29,30,31,32,33,34,35,36,37,38,39,40,  \\\n",
    "           41,42])\n",
    "y=np.array([1,6,8,12,19,23,34,55,57,62,68,78,83,98,110,119,158,225,266,301, \\\n",
    "           387,502,589,690,745,820,966,1054,1133,1265,1353,1451,1553,1628,1715,1795,1894, \\\n",
    "           1975,2142])"
   ]
  },
  {
   "cell_type": "code",
   "execution_count": 3,
   "metadata": {},
   "outputs": [
    {
     "data": {
      "image/png": "[encoded data removed]",
      "text/plain": [
       "<Figure size 432x288 with 1 Axes>"
      ]
     },
     "metadata": {
      "needs_background": "light"
     },
     "output_type": "display_data"
    }
   ],
   "source": [
    "plt.plot(x,y);"
   ]
  },
  {
   "cell_type": "code",
   "execution_count": 4,
   "metadata": {},
   "outputs": [],
   "source": [
    "# define model   f = A2 / Exp(-A0^(t-4 - A1) )  --  (f: aproximación ; t:día de marzo)\n",
    "def model(a,x):\n",
    "    ap = a[2] / (1+np.exp( -(x - 4 - a[1] ) * a[0] )  )\n",
    "    return ap"
   ]
  },
  {
   "cell_type": "code",
   "execution_count": 5,
   "metadata": {},
   "outputs": [],
   "source": [
    "# define objective\n",
    "def objective(a,x,y):\n",
    "    return model(a,x)-y"
   ]
  },
  {
   "cell_type": "code",
   "execution_count": 6,
   "metadata": {},
   "outputs": [],
   "source": [
    "# Jacobian\n",
    "def jac(a,x,y):\n",
    "    J = np.empty((len(x),len(a)))\n",
    "    \n",
    "    arg =  (x - 4 - a[1] ) * a[0]\n",
    "    expo = np.exp( -arg ) \n",
    "    sigmoide = model(a,x)\n",
    "    \n",
    "    # df/dA0\n",
    "    J[:, 0] = sigmoide**2 * expo * arg / (a[2] * a[0])\n",
    "    # df/dA1\n",
    "    J[:, 1] = sigmoide**2 * (-expo) * a[0] / a[2]\n",
    "    # df/dA2\n",
    "    J[:, 2] = sigmoide / a[2]\n",
    "    return J\n"
   ]
  },
  {
   "cell_type": "code",
   "execution_count": 7,
   "metadata": {},
   "outputs": [],
   "source": [
    "# initial values\n",
    "a0 = np.array([1.1,25,2500])"
   ]
  },
  {
   "cell_type": "code",
   "execution_count": 8,
   "metadata": {},
   "outputs": [
    {
     "name": "stdout",
     "output_type": "stream",
     "text": [
      "`ftol` termination condition is satisfied.\n",
      "Function evaluations 10, initial cost 6.2881e+06, final cost 1.9979e+04, first-order optimality 1.01e+04.\n"
     ]
    }
   ],
   "source": [
    "res = least_squares(objective, a0, jac=jac, bounds=(0, 5000), args=(x, y), verbose=1)"
   ]
  },
  {
   "cell_type": "code",
   "execution_count": 9,
   "metadata": {},
   "outputs": [
    {
     "data": {
      "text/plain": [
       "array([1.90057903e-01, 2.83237064e+01, 2.35522276e+03])"
      ]
     },
     "execution_count": 9,
     "metadata": {},
     "output_type": "execute_result"
    }
   ],
   "source": [
    "a = res.x\n",
    "a\n"
   ]
  },
  {
   "cell_type": "code",
   "execution_count": 10,
   "metadata": {},
   "outputs": [],
   "source": [
    "def pred(a,xx):\n",
    "    ap = a[2] / (1+np.exp( -(xx - 4 - a[1] ) * a[0] )  )\n",
    "    return ap"
   ]
  },
  {
   "cell_type": "code",
   "execution_count": 11,
   "metadata": {},
   "outputs": [],
   "source": [
    "yy = model(a,x)"
   ]
  },
  {
   "cell_type": "code",
   "execution_count": 13,
   "metadata": {},
   "outputs": [
    {
     "data": {
      "text/plain": [
       "2081.5932912660573"
      ]
     },
     "execution_count": 13,
     "metadata": {},
     "output_type": "execute_result"
    }
   ],
   "source": [
    "pred(a,43)"
   ]
  },
  {
   "cell_type": "code",
   "execution_count": 14,
   "metadata": {},
   "outputs": [
    {
     "data": {
      "image/png": "[encoded data removed]",
      "text/plain": [
       "<Figure size 432x288 with 1 Axes>"
      ]
     },
     "metadata": {
      "needs_background": "light"
     },
     "output_type": "display_data"
    }
   ],
   "source": [
    "plt.plot(x,y,'o-')\n",
    "plt.plot(x,yy)\n",
    "plt.show()"
   ]
  },
  {
   "cell_type": "code",
   "execution_count": 15,
   "metadata": {},
   "outputs": [
    {
     "data": {
      "text/plain": [
       "array([  10.76891238,   13.01060478,   15.71580723,   18.97892545,\n",
       "         22.91293861,   27.6527547 ,   33.35903465,   40.22248456,\n",
       "         48.46857621,   58.36259578,   70.2148309 ,   84.38557964,\n",
       "        101.28949224,  121.39853224,  145.24256798,  173.40629209,\n",
       "        206.52085056,  245.24831357,  290.25705003,  342.18633673,\n",
       "        401.59933449,  468.92507867,  544.3924399 ,  627.96196759,\n",
       "        719.26463626,  817.55887632,  921.71773339, 1030.25553626,\n",
       "       1141.39773675, 1253.18946513, 1363.62989231, 1470.81336166,\n",
       "       1573.05658779, 1668.99462224, 1757.63553002, 1838.37234977,\n",
       "       1910.95836256, 1975.45629434, 2032.17342251])"
      ]
     },
     "execution_count": 15,
     "metadata": {},
     "output_type": "execute_result"
    }
   ],
   "source": [
    "yy"
   ]
  },
  {
   "cell_type": "code",
   "execution_count": 16,
   "metadata": {},
   "outputs": [],
   "source": [
    "xmin=4\n",
    "xmax=100\n",
    "dx = xmax-xmin+1\n",
    "xxx = np.linspace(xmin,xmax,dx)\n",
    "yyy = model(a,xxx)\n"
   ]
  },
  {
   "cell_type": "code",
   "execution_count": 17,
   "metadata": {},
   "outputs": [
    {
     "name": "stderr",
     "output_type": "stream",
     "text": [
      "/usr/local/lib/python3.6/dist-packages/matplotlib/axes/_base.py:3449: UserWarning: Attempted to set non-positive ylimits for log-scale axis; invalid limits will be ignored.\n",
      "  'Attempted to set non-positive ylimits for log-scale axis; '\n"
     ]
    },
    {
     "data": {
      "image/png": "[encoded data removed]",
      "text/plain": [
       "<Figure size 432x288 with 1 Axes>"
      ]
     },
     "metadata": {
      "needs_background": "light"
     },
     "output_type": "display_data"
    }
   ],
   "source": [
    "plt.semilogy(x-4,y,'o-', label='Datos')\n",
    "plt.plot(x-4,y,'o-', label='Datos')\n",
    "plt.plot(xxx-4,yyy, label='aproximación sigmoide')\n",
    "plt.ylabel('Infectados')\n",
    "plt.xlabel('Días')\n",
    "plt.ylim(0,1200000)\n",
    "plt.xlim(0,60)\n",
    "plt.ylim(0,4500)\n",
    "plt.xlim(0,60)\n",
    "plt.title('Coronavirus en Argentina (desde el 4 Marzo)')\n",
    "plt.legend()\n",
    "plt.savefig('coronasigmoide.png', dpi=None, facecolor='w', edgecolor='w',\n",
    "        orientation='portrait', papertype=None, format=None,\n",
    "        transparent=False, bbox_inches=None, pad_inches=0.1,\n",
    "        frameon=None, metadata=None);\n",
    "\n",
    "plt.show();"
   ]
  },
  {
   "cell_type": "code",
   "execution_count": 18,
   "metadata": {},
   "outputs": [
    {
     "data": {
      "text/plain": [
       "array([1.90057903e-01, 2.83237064e+01, 2.35522276e+03])"
      ]
     },
     "execution_count": 18,
     "metadata": {},
     "output_type": "execute_result"
    }
   ],
   "source": [
    "a"
   ]
  },
  {
   "cell_type": "code",
   "execution_count": null,
   "metadata": {},
   "outputs": [],
   "source": []
  },
  {
   "cell_type": "code",
   "execution_count": null,
   "metadata": {},
   "outputs": [],
   "source": []
  }
 ],
 "metadata": {
  "kernelspec": {
   "display_name": "Python 3",
   "language": "python",
   "name": "python3"
  },
  "language_info": {
   "codemirror_mode": {
    "name": "ipython",
    "version": 3
   },
   "file_extension": ".py",
   "mimetype": "text/x-python",
   "name": "python",
   "nbconvert_exporter": "python",
   "pygments_lexer": "ipython3",
   "version": "3.6.9"
  }
 },
 "nbformat": 4,
 "nbformat_minor": 2
}
